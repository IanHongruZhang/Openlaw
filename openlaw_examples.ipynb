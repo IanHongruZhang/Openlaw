{
 "cells": [
  {
   "cell_type": "code",
   "execution_count": 3,
   "metadata": {},
   "outputs": [
    {
     "name": "stdout",
     "output_type": "stream",
     "text": [
      "{}\n"
     ]
    }
   ],
   "source": [
    "# -*- coding:utf-8 -*-\n",
    "import requests\n",
    "import re\n",
    "from lxml import html\n",
    "#抓取详细信息\n",
    "class OpenLawSpider:\n",
    "    #页面初始化\n",
    "    def __init__(self):\n",
    "        self.headers = {\n",
    "            \"Accept\": \"text/html,application/xhtml+xml,application/xml;q=0.9,image/webp,image/apng,*/*;q=0.8\",\n",
    "            \"Accept-Encoding\": \"gzip, deflate\",\n",
    "            \"Accept-Language\": \"zh-CN,zh;q=0.9\",\n",
    "            \"Cache-Control\": \"max-age=0\",\n",
    "            \"Connection\": \"keep-alive\",\n",
    "            \"User-Agent\": \"Mozilla/5.0 (Windows NT 10.0; WOW64) AppleWebKit/537.36 (KHTML, like Gecko) Chrome/59.0.3071.86 Safari/537.36\"\n",
    "        }\n",
    "    # 获取详细\n",
    "    def getLawDetail(self):\n",
    "        url = 'http://openlaw.cn/search/judgement/type?causeId=d8347b89678645e1887045b4200e822f'\n",
    "        host = {'host': 'openlaw.cn',}\n",
    "        headers = self.headers.copy()\n",
    "        headers.update(host, )\n",
    "\n",
    "        # 第一步，获取js文件内容\n",
    "        ret_origin = requests.get(url, headers=headers)\n",
    "        cookies = requests.utils.dict_from_cookiejar(ret_origin.cookies)\n",
    "        print(cookies)\n",
    "        # 第二步，js代码并还原j_token计算过程，正则匹配window.v\n",
    "        cmp = re.compile('window.v=\"(.*)\";')\n",
    "        rst = cmp.findall(ret_origin.text)\n",
    "        v_token = 'abcdefghijklmnopqrstuvwxyz'\n",
    "        if len(rst):\n",
    "            v_token = rst[0]\n",
    "        j_token = v_token[2:4] + 'n' + v_token[0:1] + 'p' + v_token[4:8] + 'e' + v_token[1:2] + v_token[len(v_token)-17:] + v_token[8:16]\n",
    "        cookies['j_token'] = j_token\n",
    "        ret_next = requests.get(url, headers=headers, cookies = cookies)\n",
    "        response = html.fromstring(ret_next.text)\n",
    "        items = response.cssselect(\"div[id=primary] .ht-container .entry-title a\")\n",
    "        for item in items:\n",
    "            title = item.text_content()\n",
    "            print(title)\n",
    "\n",
    "spider = OpenLawSpider()\n",
    "spider.getLawDetail()"
   ]
  },
  {
   "cell_type": "code",
   "execution_count": 26,
   "metadata": {},
   "outputs": [],
   "source": [
    "from pdfminer.converter import PDFPageAggregator\n",
    "from pdfminer.layout import LAParams\n",
    "from pdfminer.pdfparser import PDFParser, PDFDocument\n",
    "from pdfminer.pdfinterp import PDFResourceManager, PDFPageInterpreter\n",
    "from pdfminer.pdfdevice import PDFDevice\n",
    "\n",
    "def pdfreader(filename):\n",
    "    #获得文档对象,以二进制读方式打开\n",
    "    fp = open(\"（2017）冀0930刑初86号.pdf\", \"rb\")\n",
    "\n",
    "    #创建一个与文档关联的分析器\n",
    "    parser = PDFParser(fp)\n",
    "\n",
    "    #创建一个pdf文档的对象\n",
    "    doc = PDFDocument()\n",
    "\n",
    "    #连接解释器与文档对象\n",
    "    parser.set_document(doc)\n",
    "    doc.set_parser(parser)\n",
    "\n",
    "    #初始化文档,如果文档有密码，写与此。\n",
    "    doc.initialize(\"\")\n",
    "\n",
    "    #创建pdf资源管理器\n",
    "    resource = PDFResourceManager()\n",
    "\n",
    "    #参数分析器\n",
    "    laparam = LAParams()\n",
    "\n",
    "    #创建聚合器\n",
    "    device = PDFPageAggregator(resource, laparams=laparam)\n",
    "\n",
    "    #创建pdf页面解释器\n",
    "    interpreter = PDFPageInterpreter(resource, device)\n",
    "\n",
    "    #使用文档对象得到页面的集合\n",
    "    list_text,corpus = [],[]\n",
    "    for page in doc.get_pages():\n",
    "        #使用页面解释器读取\n",
    "        interpreter.process_page(page)\n",
    "        #使用聚合器来获得内容\n",
    "        layout = device.get_result()\n",
    "        for out in layout:\n",
    "            if hasattr(out, \"get_text\"):\n",
    "                line = out.get_text().strip(\"\\n \")\n",
    "                line_clean = re.sub(\"\\n\",\"\",line)\n",
    "                list_text.append(line_clean)\n",
    "    final_test = \"\".join([i for i in list_text if i != \"\"])\n",
    "    return final_test"
   ]
  },
  {
   "cell_type": "code",
   "execution_count": null,
   "metadata": {},
   "outputs": [],
   "source": []
  }
 ],
 "metadata": {
  "kernelspec": {
   "display_name": "Python 3",
   "language": "python",
   "name": "python3"
  },
  "language_info": {
   "codemirror_mode": {
    "name": "ipython",
    "version": 3
   },
   "file_extension": ".py",
   "mimetype": "text/x-python",
   "name": "python",
   "nbconvert_exporter": "python",
   "pygments_lexer": "ipython3",
   "version": "3.7.1"
  }
 },
 "nbformat": 4,
 "nbformat_minor": 2
}
